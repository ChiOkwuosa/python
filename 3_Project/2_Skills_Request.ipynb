{
 "cells": [
  {
   "cell_type": "markdown",
   "metadata": {},
   "source": [
    "# What are the most demanded skills for the top 3 most popular data roles?\n",
    "#### Methodology\n",
    "1. Import required libaries and dataset.\n",
    "2. Clean the dataset.\n",
    "3. Focus the analysis to job postings in India.\n",
    "4. Clean the job skill column.\n",
    "5. Group the skill count by skill and job_title.\n",
    "6. Calculate the percentage representation of skills in respective data-related jobs.\n",
    "7. Visualize the findings."
   ]
  },
  {
   "cell_type": "markdown",
   "metadata": {},
   "source": [
    "### Import Required Libraries for Analysis\n",
    "This code imports libraries for data analysis and visualization. `pandas` handles structured data, `matplotlib` and `seaborn` create visualizations, and `ast` analyzes Python code structures. `datasets` likely accesses pre-built datasets for machine learning or analysis."
   ]
  },
  {
   "cell_type": "code",
   "execution_count": null,
   "metadata": {},
   "outputs": [],
   "source": [
    "import datasets\n",
    "import pandas as pd\n",
    "import matplotlib.pyplot as plt\n",
    "import seaborn as sns\n",
    "import ast"
   ]
  },
  {
   "cell_type": "markdown",
   "metadata": {},
   "source": [
    "### Import Dataset\n",
    "This code loads a dataset from the `datasets` library (Hugging Face's). The `load_dataset` function fetches the `'lukebarousse/data_jobs'` dataset. The 'train' split of the dataset is then converted into a pandas DataFrame for easier data manipulation and analysis."
   ]
  },
  {
   "cell_type": "code",
   "execution_count": null,
   "metadata": {},
   "outputs": [],
   "source": [
    "from datasets import load_dataset\n",
    "dataset = load_dataset('lukebarousse/data_jobs')\n",
    "df = dataset['train'].to_pandas() "
   ]
  },
  {
   "cell_type": "markdown",
   "metadata": {},
   "source": [
    "### Data Cleanup\n",
    "The `pd.to_datetime()` function is used to convert the `job_posted_date` column into a datetime format.\n",
    "\n",
    "The `new_list` function checks if a value in `job_skills` is not null, and if so, uses `ast.literal_eval() `to safely evaluate the string as a Python literal (i.e., converting it from a string representation of a list to an actual list). This transformation is applied to the `job_skills` column using `.apply()`."
   ]
  },
  {
   "cell_type": "code",
   "execution_count": 4,
   "metadata": {},
   "outputs": [],
   "source": [
    "#Converted the datatype for job_posted_date from object to datetime \n",
    "df['job_posted_date'] = pd.to_datetime(df.job_posted_date)\n",
    "\n",
    "#Coverted the datatype for skill_list from string to list\n",
    "def new_list(skill_list):  \n",
    "   if pd.notna(skill_list): \n",
    "      return ast.literal_eval(skill_list)  \n",
    "df['job_skills'] = df.job_skills.apply(new_list)"
   ]
  },
  {
   "cell_type": "markdown",
   "metadata": {},
   "source": [
    "### Filter df_India dataset for only job_country as India\n",
    "This code filters the dataset `df` to create a new DataFrame, `df_India`, that contains only the rows where the `job_country` column is equal to `'India'`. It essentially extracts all job postings in the dataset that are associated with India."
   ]
  },
  {
   "cell_type": "code",
   "execution_count": 5,
   "metadata": {},
   "outputs": [],
   "source": [
    "df_India = df[df['job_country'] == 'India']"
   ]
  },
  {
   "cell_type": "markdown",
   "metadata": {},
   "source": [
    "### Skills Count Group by Job Skills and Job Title\n",
    "This code examines the distribution of skills across job titles in India by separating individual skills into rows, grouping them by job title and skill, and counting their occurrences. The results are sorted to identify the most frequently mentioned skills for each job title."
   ]
  },
  {
   "cell_type": "code",
   "execution_count": 6,
   "metadata": {},
   "outputs": [
    {
     "data": {
      "text/html": [
       "<div>\n",
       "<style scoped>\n",
       "    .dataframe tbody tr th:only-of-type {\n",
       "        vertical-align: middle;\n",
       "    }\n",
       "\n",
       "    .dataframe tbody tr th {\n",
       "        vertical-align: top;\n",
       "    }\n",
       "\n",
       "    .dataframe thead th {\n",
       "        text-align: right;\n",
       "    }\n",
       "</style>\n",
       "<table border=\"1\" class=\"dataframe\">\n",
       "  <thead>\n",
       "    <tr style=\"text-align: right;\">\n",
       "      <th></th>\n",
       "      <th>job_skills</th>\n",
       "      <th>job_title_short</th>\n",
       "      <th>skill_count</th>\n",
       "    </tr>\n",
       "  </thead>\n",
       "  <tbody>\n",
       "    <tr>\n",
       "      <th>1374</th>\n",
       "      <td>sql</td>\n",
       "      <td>Data Engineer</td>\n",
       "      <td>12993</td>\n",
       "    </tr>\n",
       "    <tr>\n",
       "      <th>1088</th>\n",
       "      <td>python</td>\n",
       "      <td>Data Engineer</td>\n",
       "      <td>11568</td>\n",
       "    </tr>\n",
       "    <tr>\n",
       "      <th>1089</th>\n",
       "      <td>python</td>\n",
       "      <td>Data Scientist</td>\n",
       "      <td>9248</td>\n",
       "    </tr>\n",
       "    <tr>\n",
       "      <th>1327</th>\n",
       "      <td>spark</td>\n",
       "      <td>Data Engineer</td>\n",
       "      <td>7157</td>\n",
       "    </tr>\n",
       "    <tr>\n",
       "      <th>103</th>\n",
       "      <td>aws</td>\n",
       "      <td>Data Engineer</td>\n",
       "      <td>6993</td>\n",
       "    </tr>\n",
       "    <tr>\n",
       "      <th>...</th>\n",
       "      <td>...</td>\n",
       "      <td>...</td>\n",
       "      <td>...</td>\n",
       "    </tr>\n",
       "    <tr>\n",
       "      <th>389</th>\n",
       "      <td>esquisse</td>\n",
       "      <td>Data Scientist</td>\n",
       "      <td>1</td>\n",
       "    </tr>\n",
       "    <tr>\n",
       "      <th>887</th>\n",
       "      <td>node.js</td>\n",
       "      <td>Senior Data Analyst</td>\n",
       "      <td>1</td>\n",
       "    </tr>\n",
       "    <tr>\n",
       "      <th>753</th>\n",
       "      <td>matlab</td>\n",
       "      <td>Cloud Engineer</td>\n",
       "      <td>1</td>\n",
       "    </tr>\n",
       "    <tr>\n",
       "      <th>411</th>\n",
       "      <td>fastapi</td>\n",
       "      <td>Cloud Engineer</td>\n",
       "      <td>1</td>\n",
       "    </tr>\n",
       "    <tr>\n",
       "      <th>318</th>\n",
       "      <td>delphi</td>\n",
       "      <td>Data Engineer</td>\n",
       "      <td>1</td>\n",
       "    </tr>\n",
       "  </tbody>\n",
       "</table>\n",
       "<p>1689 rows × 3 columns</p>\n",
       "</div>"
      ],
      "text/plain": [
       "     job_skills      job_title_short  skill_count\n",
       "1374        sql        Data Engineer        12993\n",
       "1088     python        Data Engineer        11568\n",
       "1089     python       Data Scientist         9248\n",
       "1327      spark        Data Engineer         7157\n",
       "103         aws        Data Engineer         6993\n",
       "...         ...                  ...          ...\n",
       "389    esquisse       Data Scientist            1\n",
       "887     node.js  Senior Data Analyst            1\n",
       "753      matlab       Cloud Engineer            1\n",
       "411     fastapi       Cloud Engineer            1\n",
       "318      delphi        Data Engineer            1\n",
       "\n",
       "[1689 rows x 3 columns]"
      ]
     },
     "execution_count": 6,
     "metadata": {},
     "output_type": "execute_result"
    }
   ],
   "source": [
    "# Creates a copy of the India-specific dataset to ensure the original dataset remains unchanged.\n",
    "df_India_skills = df_India.copy()  \n",
    "\n",
    "# Splits the 'job_skills' column, which contains lists, into individual rows for more granular analysis.\n",
    "df_India_skills = df_India_skills.explode('job_skills')  \n",
    "\n",
    "# Groups the data by 'job_skills' and 'job_title_short' and calculates the count of each combination.\n",
    "India_skills_count = df_India_skills.groupby(['job_skills', 'job_title_short']).size()  \n",
    "\n",
    "# Converts the grouped data into a DataFrame and renames the calculated count column to 'skill_count'.\n",
    "India_skills_count = India_skills_count.reset_index(name='skill_count')  \n",
    "\n",
    "# Sorts the DataFrame in descending order of 'skill_count' to highlight the most frequent skills for each job title.\n",
    "India_skills_count.sort_values(by='skill_count', ascending=False, inplace=True)  \n",
    "\n",
    "India_skills_count"
   ]
  },
  {
   "cell_type": "markdown",
   "metadata": {},
   "source": [
    "### Extracting and Sorting Top 3 Job Titles\n",
    "This code extracts all unique job titles (`job_title_short`) from the `India_skills_count` DataFrame, converts them into a list, selects the first three titles, sorts them in ascending order, and returns the sorted list."
   ]
  },
  {
   "cell_type": "code",
   "execution_count": 7,
   "metadata": {},
   "outputs": [
    {
     "data": {
      "text/plain": [
       "['Data Analyst', 'Data Engineer', 'Data Scientist']"
      ]
     },
     "execution_count": 7,
     "metadata": {},
     "output_type": "execute_result"
    }
   ],
   "source": [
    "India_job_titles = India_skills_count['job_title_short'].unique().tolist() #In India_job_titles variable, set dataframe of skills_counts to return only the top 3 job_title_short\n",
    "India_job_titles = sorted(India_job_titles[:3])\n",
    "India_job_titles"
   ]
  },
  {
   "cell_type": "markdown",
   "metadata": {},
   "source": [
    "### Plotting Top Skills for Top Job Titles in India\n",
    "This code creates multiple bar charts, one for each of the top 3 job titles in India. It loops through the selected job titles, filters the top 5 skills for each, and plots them using `sns.barplot()`. Each plot displays the skill counts, with a different color palette for each skill. Finally, the plots are arranged in a vertical layout, and a title is added for the entire figure."
   ]
  },
  {
   "cell_type": "code",
   "execution_count": 8,
   "metadata": {},
   "outputs": [
    {
     "data": {
      "image/png": "[encoded data removed]",
      "text/plain": [
       "<Figure size 640x480 with 3 Axes>"
      ]
     },
     "metadata": {},
     "output_type": "display_data"
    }
   ],
   "source": [
    "fig, ax = plt.subplots(len(India_job_titles), 1)  # Create a figure with multiple subplots (one for each job title).\n",
    "\n",
    "for i, India_job_title in enumerate(India_job_titles): # Loop through each job title to generate a separate plot for each\n",
    "  df_plot = India_skills_count[India_skills_count['job_title_short'] == India_job_title].head(5)   # Filter the top 5 skills for the current job title.\n",
    "  sns.barplot (\n",
    "    data=df_plot, \n",
    "    y='job_skills', \n",
    "    x='skill_count', \n",
    "    ax=ax[i], \n",
    "    hue='job_skills', \n",
    "    palette='dark:m' \n",
    "  ) \n",
    "  \n",
    "  ax[i].set_title(India_job_title)\n",
    "  ax[i].set_ylabel('')\n",
    "  ax[i].set_xlabel('')\n",
    "\n",
    "fig.suptitle('Count of Top Skills for Top Jobs', size=15)\n",
    "fig.tight_layout()\n",
    "\n",
    "plt.show()"
   ]
  },
  {
   "cell_type": "markdown",
   "metadata": {},
   "source": [
    "### Count of various Job Titles\n",
    "This code calculates the number of occurrences of each job title in the `df_India` dataset. It uses `value_counts()` to count the frequency of each unique job title in the `job_title_short column`, converts the result into a DataFrame using `to_frame()`, and stores it in the `India_job_count` variable."
   ]
  },
  {
   "cell_type": "code",
   "execution_count": 9,
   "metadata": {},
   "outputs": [
    {
     "data": {
      "text/html": [
       "<div>\n",
       "<style scoped>\n",
       "    .dataframe tbody tr th:only-of-type {\n",
       "        vertical-align: middle;\n",
       "    }\n",
       "\n",
       "    .dataframe tbody tr th {\n",
       "        vertical-align: top;\n",
       "    }\n",
       "\n",
       "    .dataframe thead th {\n",
       "        text-align: right;\n",
       "    }\n",
       "</style>\n",
       "<table border=\"1\" class=\"dataframe\">\n",
       "  <thead>\n",
       "    <tr style=\"text-align: right;\">\n",
       "      <th></th>\n",
       "      <th>count</th>\n",
       "    </tr>\n",
       "    <tr>\n",
       "      <th>job_title_short</th>\n",
       "      <th></th>\n",
       "    </tr>\n",
       "  </thead>\n",
       "  <tbody>\n",
       "    <tr>\n",
       "      <th>Data Engineer</th>\n",
       "      <td>19062</td>\n",
       "    </tr>\n",
       "    <tr>\n",
       "      <th>Data Scientist</th>\n",
       "      <td>13279</td>\n",
       "    </tr>\n",
       "    <tr>\n",
       "      <th>Data Analyst</th>\n",
       "      <td>6121</td>\n",
       "    </tr>\n",
       "    <tr>\n",
       "      <th>Senior Data Engineer</th>\n",
       "      <td>4353</td>\n",
       "    </tr>\n",
       "    <tr>\n",
       "      <th>Senior Data Scientist</th>\n",
       "      <td>2486</td>\n",
       "    </tr>\n",
       "    <tr>\n",
       "      <th>Business Analyst</th>\n",
       "      <td>1887</td>\n",
       "    </tr>\n",
       "    <tr>\n",
       "      <th>Software Engineer</th>\n",
       "      <td>1795</td>\n",
       "    </tr>\n",
       "    <tr>\n",
       "      <th>Senior Data Analyst</th>\n",
       "      <td>1083</td>\n",
       "    </tr>\n",
       "    <tr>\n",
       "      <th>Machine Learning Engineer</th>\n",
       "      <td>671</td>\n",
       "    </tr>\n",
       "    <tr>\n",
       "      <th>Cloud Engineer</th>\n",
       "      <td>351</td>\n",
       "    </tr>\n",
       "  </tbody>\n",
       "</table>\n",
       "</div>"
      ],
      "text/plain": [
       "                           count\n",
       "job_title_short                 \n",
       "Data Engineer              19062\n",
       "Data Scientist             13279\n",
       "Data Analyst                6121\n",
       "Senior Data Engineer        4353\n",
       "Senior Data Scientist       2486\n",
       "Business Analyst            1887\n",
       "Software Engineer           1795\n",
       "Senior Data Analyst         1083\n",
       "Machine Learning Engineer    671\n",
       "Cloud Engineer               351"
      ]
     },
     "execution_count": 9,
     "metadata": {},
     "output_type": "execute_result"
    }
   ],
   "source": [
    "India_job_count = df_India['job_title_short'].value_counts().to_frame()\n",
    "India_job_count"
   ]
  },
  {
   "cell_type": "markdown",
   "metadata": {},
   "source": [
    "### Merging Skill Counts with Job Title Counts and Calculating Skill Percentage\n",
    "This code merges two DataFrames: `India_skills_count` and `India_job_count`, linking them by the `job_title_short` column. The merge is done using a left join (`how='left'`), ensuring that all rows from `India_skills_count` are retained while corresponding job title counts from `India_job_count` are added. \n",
    "\n",
    "A new column, `percentage`, is then created, which calculates the percentage of each skill's count relative to the total job postings for that job title by dividing the `skill_count` by the total count and multiplying by 100."
   ]
  },
  {
   "cell_type": "code",
   "execution_count": 10,
   "metadata": {},
   "outputs": [
    {
     "data": {
      "text/html": [
       "<div>\n",
       "<style scoped>\n",
       "    .dataframe tbody tr th:only-of-type {\n",
       "        vertical-align: middle;\n",
       "    }\n",
       "\n",
       "    .dataframe tbody tr th {\n",
       "        vertical-align: top;\n",
       "    }\n",
       "\n",
       "    .dataframe thead th {\n",
       "        text-align: right;\n",
       "    }\n",
       "</style>\n",
       "<table border=\"1\" class=\"dataframe\">\n",
       "  <thead>\n",
       "    <tr style=\"text-align: right;\">\n",
       "      <th></th>\n",
       "      <th>job_skills</th>\n",
       "      <th>job_title_short</th>\n",
       "      <th>skill_count</th>\n",
       "      <th>count</th>\n",
       "      <th>percentage</th>\n",
       "    </tr>\n",
       "  </thead>\n",
       "  <tbody>\n",
       "    <tr>\n",
       "      <th>0</th>\n",
       "      <td>sql</td>\n",
       "      <td>Data Engineer</td>\n",
       "      <td>12993</td>\n",
       "      <td>19062</td>\n",
       "      <td>68.161788</td>\n",
       "    </tr>\n",
       "    <tr>\n",
       "      <th>1</th>\n",
       "      <td>python</td>\n",
       "      <td>Data Engineer</td>\n",
       "      <td>11568</td>\n",
       "      <td>19062</td>\n",
       "      <td>60.686182</td>\n",
       "    </tr>\n",
       "    <tr>\n",
       "      <th>2</th>\n",
       "      <td>python</td>\n",
       "      <td>Data Scientist</td>\n",
       "      <td>9248</td>\n",
       "      <td>13279</td>\n",
       "      <td>69.643798</td>\n",
       "    </tr>\n",
       "    <tr>\n",
       "      <th>3</th>\n",
       "      <td>spark</td>\n",
       "      <td>Data Engineer</td>\n",
       "      <td>7157</td>\n",
       "      <td>19062</td>\n",
       "      <td>37.545903</td>\n",
       "    </tr>\n",
       "    <tr>\n",
       "      <th>4</th>\n",
       "      <td>aws</td>\n",
       "      <td>Data Engineer</td>\n",
       "      <td>6993</td>\n",
       "      <td>19062</td>\n",
       "      <td>36.685552</td>\n",
       "    </tr>\n",
       "    <tr>\n",
       "      <th>...</th>\n",
       "      <td>...</td>\n",
       "      <td>...</td>\n",
       "      <td>...</td>\n",
       "      <td>...</td>\n",
       "      <td>...</td>\n",
       "    </tr>\n",
       "    <tr>\n",
       "      <th>1684</th>\n",
       "      <td>esquisse</td>\n",
       "      <td>Data Scientist</td>\n",
       "      <td>1</td>\n",
       "      <td>13279</td>\n",
       "      <td>0.007531</td>\n",
       "    </tr>\n",
       "    <tr>\n",
       "      <th>1685</th>\n",
       "      <td>node.js</td>\n",
       "      <td>Senior Data Analyst</td>\n",
       "      <td>1</td>\n",
       "      <td>1083</td>\n",
       "      <td>0.092336</td>\n",
       "    </tr>\n",
       "    <tr>\n",
       "      <th>1686</th>\n",
       "      <td>matlab</td>\n",
       "      <td>Cloud Engineer</td>\n",
       "      <td>1</td>\n",
       "      <td>351</td>\n",
       "      <td>0.284900</td>\n",
       "    </tr>\n",
       "    <tr>\n",
       "      <th>1687</th>\n",
       "      <td>fastapi</td>\n",
       "      <td>Cloud Engineer</td>\n",
       "      <td>1</td>\n",
       "      <td>351</td>\n",
       "      <td>0.284900</td>\n",
       "    </tr>\n",
       "    <tr>\n",
       "      <th>1688</th>\n",
       "      <td>delphi</td>\n",
       "      <td>Data Engineer</td>\n",
       "      <td>1</td>\n",
       "      <td>19062</td>\n",
       "      <td>0.005246</td>\n",
       "    </tr>\n",
       "  </tbody>\n",
       "</table>\n",
       "<p>1689 rows × 5 columns</p>\n",
       "</div>"
      ],
      "text/plain": [
       "     job_skills      job_title_short  skill_count  count  percentage\n",
       "0           sql        Data Engineer        12993  19062   68.161788\n",
       "1        python        Data Engineer        11568  19062   60.686182\n",
       "2        python       Data Scientist         9248  13279   69.643798\n",
       "3         spark        Data Engineer         7157  19062   37.545903\n",
       "4           aws        Data Engineer         6993  19062   36.685552\n",
       "...         ...                  ...          ...    ...         ...\n",
       "1684   esquisse       Data Scientist            1  13279    0.007531\n",
       "1685    node.js  Senior Data Analyst            1   1083    0.092336\n",
       "1686     matlab       Cloud Engineer            1    351    0.284900\n",
       "1687    fastapi       Cloud Engineer            1    351    0.284900\n",
       "1688     delphi        Data Engineer            1  19062    0.005246\n",
       "\n",
       "[1689 rows x 5 columns]"
      ]
     },
     "execution_count": 10,
     "metadata": {},
     "output_type": "execute_result"
    }
   ],
   "source": [
    "India_skill_merge = pd.merge(India_skills_count, India_job_count, how='left', on='job_title_short')\n",
    "\n",
    "#Create a coulmn that calculate the percentage of respective skill_count in job_title_short\n",
    "India_skill_merge['percentage'] = (India_skill_merge['skill_count'] / India_skill_merge['count'])* 100\n",
    "India_skill_merge"
   ]
  },
  {
   "cell_type": "markdown",
   "metadata": {},
   "source": [
    "### Visualizing Top Skills Percentage for Various Job Titles\n",
    "This code generates a set of subplots to visualize the top 5 skills for each of the selected job titles. It first creates a figure with multiple subplots, one for each job title in `India_job_titles`. Within the loop, it filters the merged dataset, `India_skill_merge`, to extract the top 5 skills for each job title, and then plots the skill percentages using `sns.barplot`. Each bar is labeled with the exact percentage value, and the x-axis ticks are removed for all but the last subplot. The `set_xlim` function limits the x-axis to 75, and the overall figure title is set with `fig.suptitle`. Finally, `plt.tight_layout` adjusts the spacing between subplots for better visual clarity."
   ]
  },
  {
   "cell_type": "code",
   "execution_count": 15,
   "metadata": {},
   "outputs": [
    {
     "data": {
      "image/png": "[encoded data removed]",
      "text/plain": [
       "<Figure size 640x480 with 3 Axes>"
      ]
     },
     "metadata": {},
     "output_type": "display_data"
    }
   ],
   "source": [
    "fig, ax = plt.subplots(len(India_job_titles), 1)  # Create a figure with multiple subplots (one for each job title)\n",
    "\n",
    "for i, India_job_merge in enumerate(India_job_titles): # Loop through each India_job_title to generate a separate plot for each\n",
    "   df_new_plot = India_skill_merge[India_skill_merge['job_title_short'] == India_job_merge].head(5)   # Filter the top 5 skills for the current job title.\n",
    "   sns.barplot (\n",
    "    data=df_new_plot, \n",
    "    y='job_skills', \n",
    "    x='percentage', \n",
    "    ax=ax[i], \n",
    "    hue='job_skills', \n",
    "    palette='dark:m' \n",
    "   ) \n",
    "   \n",
    "   if i !=len(India_job_titles) -1:\n",
    "      ax[i].set_xticks([])\n",
    "     \n",
    "\n",
    "   for n, v in enumerate(df_new_plot['percentage']):\n",
    "      ax[i].text(v, n, f'{v:.0f}%', va='center')   \n",
    "\n",
    "   ax[i].set_title(India_job_merge, size=13)\n",
    "   ax[i].set_ylabel('')\n",
    "   ax[i].set_xlabel('') \n",
    "   ax[i].set_xlim(0,75)            \n",
    "\n",
    "ax[-1].set_xlabel('Skill Percentage in Job Postings', size=11)\n",
    "\n",
    "fig.suptitle('Top In-Demand Skills in India’s Most Popular Job Postings', size=15)\n",
    "plt.tight_layout(h_pad=.7)"
   ]
  }
 ],
 "metadata": {
  "kernelspec": {
   "display_name": "Python 3",
   "language": "python",
   "name": "python3"
  },
  "language_info": {
   "codemirror_mode": {
    "name": "ipython",
    "version": 3
   },
   "file_extension": ".py",
   "mimetype": "text/x-python",
   "name": "python",
   "nbconvert_exporter": "python",
   "pygments_lexer": "ipython3",
   "version": "3.13.1"
  }
 },
 "nbformat": 4,
 "nbformat_minor": 2
}
